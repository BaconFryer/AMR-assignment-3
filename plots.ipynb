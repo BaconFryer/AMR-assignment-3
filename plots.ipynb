{
 "cells": [
  {
   "cell_type": "code",
   "execution_count": 4,
   "metadata": {},
   "outputs": [],
   "source": [
    "import os\n",
    "import numpy as np\n",
    "import pandas as pd\n",
    "import matplotlib.pyplot as plt"
   ]
  },
  {
   "cell_type": "code",
   "execution_count": 5,
   "metadata": {},
   "outputs": [],
   "source": [
    "log_dir='./logs/'"
   ]
  },
  {
   "cell_type": "code",
   "execution_count": 6,
   "metadata": {},
   "outputs": [],
   "source": [
    "# Get all the monitor.csv files in the log directory\n",
    "monitor_files = [file for file in os.listdir(log_dir) if file.endswith('.monitor.csv')]\n",
    "\n",
    "# Load the data from all monitor files\n",
    "data_frames = []\n",
    "for file in monitor_files:\n",
    "    file_path = os.path.join(log_dir, file)\n",
    "    data = pd.read_csv(file_path, skiprows=1)\n",
    "    data_frames.append(data)\n",
    "\n",
    "# Concatenate the data from all monitor files\n",
    "all_data = pd.concat(data_frames)\n",
    "\n",
    "# Extract the desired parameters\n",
    "timesteps = all_data['l'].cumsum()\n",
    "rewards = all_data['r']\n",
    "episode_lengths = all_data['l']\n",
    "\n",
    "# Create subplots\n",
    "fig, (ax1, ax2) = plt.subplots(2, 1, figsize=(10, 8), sharex=True)\n",
    "\n",
    "# Plot rewards\n",
    "ax1.plot(timesteps, rewards, color='blue', linewidth=1)\n",
    "ax1.set_ylabel('Rewards')\n",
    "ax1.set_title('Training Rewards')\n",
    "ax1.grid(True)\n",
    "\n",
    "# Plot episode lengths (survival time)\n",
    "ax2.plot(timesteps, episode_lengths, color='green', linewidth=1)\n",
    "ax2.set_xlabel('Timesteps')\n",
    "ax2.set_ylabel('Episode Length')\n",
    "ax2.set_title('Episode Lengths (Survival Time)')\n",
    "ax2.grid(True)\n",
    "\n",
    "# Adjust spacing between subplots\n",
    "plt.tight_layout()\n",
    "\n",
    "# Save the plot as an image file\n",
    "plt.savefig(f'{log_dir}training_data.png')\n",
    "plt.close()"
   ]
  },
  {
   "cell_type": "code",
   "execution_count": null,
   "metadata": {},
   "outputs": [],
   "source": []
  }
 ],
 "metadata": {
  "kernelspec": {
   "display_name": ".venv",
   "language": "python",
   "name": "python3"
  },
  "language_info": {
   "codemirror_mode": {
    "name": "ipython",
    "version": 3
   },
   "file_extension": ".py",
   "mimetype": "text/x-python",
   "name": "python",
   "nbconvert_exporter": "python",
   "pygments_lexer": "ipython3",
   "version": "3.11.9"
  }
 },
 "nbformat": 4,
 "nbformat_minor": 2
}
