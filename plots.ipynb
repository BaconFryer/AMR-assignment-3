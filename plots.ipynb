{
 "cells": [
  {
   "cell_type": "code",
   "execution_count": 328,
   "metadata": {},
   "outputs": [],
   "source": [
    "import os\n",
    "import numpy as np\n",
    "import pandas as pd\n",
    "import matplotlib.pyplot as plt"
   ]
  },
  {
   "cell_type": "code",
   "execution_count": 329,
   "metadata": {},
   "outputs": [],
   "source": [
    "log_dir='./logs/'"
   ]
  },
  {
   "cell_type": "code",
   "execution_count": 330,
   "metadata": {},
   "outputs": [],
   "source": [
    "# Get all the monitor.csv files in the log directory\n",
    "monitor_files = [file for file in os.listdir(log_dir) if file.endswith('.monitor.csv')]\n",
    "\n",
    "# Load the data from all monitor files\n",
    "data_frames = []\n",
    "for file in monitor_files:\n",
    "    file_path = os.path.join(log_dir, file)\n",
    "    data = pd.read_csv(file_path, skiprows=1)\n",
    "    data_frames.append(data)\n",
    "\n",
    "# Concatenate the data from all monitor files\n",
    "all_data = pd.concat(data_frames)\n",
    "\n",
    "# Group the data by timestep and calculate the average rewards and episode lengths\n",
    "grouped_data = all_data.groupby('t')\n",
    "avg_rewards = grouped_data['r'].mean()\n",
    "avg_episode_lengths = grouped_data['l'].mean() / 60\n",
    "timesteps = avg_rewards.index\n",
    "\n",
    "# Calculate moving averages\n",
    "window_size = 100  # Adjust the window size as needed\n",
    "reward_moving_avg = avg_rewards.rolling(window=window_size).mean()\n",
    "episode_length_moving_avg = avg_episode_lengths.rolling(window=window_size).mean()\n",
    "\n",
    "# Create subplots\n",
    "fig, (ax1, ax2) = plt.subplots(2, 1, figsize=(10, 8), sharex=True)\n",
    "\n",
    "# Plot average rewards\n",
    "ax1.plot(timesteps, avg_rewards, color='blue', linewidth=1, alpha=0.3, label='Average Rewards')\n",
    "ax1.plot(timesteps, reward_moving_avg, color='red', linewidth=1, label=f'Moving Average ({window_size} steps)')\n",
    "ax1.set_ylabel('Average Rewards')\n",
    "ax1.set_title('Training Rewards (Average)')\n",
    "ax1.grid(True)\n",
    "ax1.legend()\n",
    "\n",
    "# Plot average episode lengths (survival time)\n",
    "ax2.plot(timesteps, avg_episode_lengths, color='green', linewidth=1, alpha=0.3, label='Average Episode Lengths')\n",
    "ax2.plot(timesteps, episode_length_moving_avg, color='red', linewidth=1, label=f'Moving Average ({window_size} steps)')\n",
    "ax2.set_xlabel('Timesteps')\n",
    "ax2.set_ylabel('Average Episode Length')\n",
    "ax2.set_title('Episode Lengths (Survival Time) (Average)')\n",
    "ax2.grid(True)\n",
    "ax2.legend()\n",
    "\n",
    "# Adjust spacing between subplots\n",
    "plt.tight_layout()\n",
    "\n",
    "# Save the plot as an image file\n",
    "plt.savefig(f'{log_dir}training_data_avg_with_moving_avg.png')\n",
    "plt.show()\n",
    "plt.close()"
   ]
  },
  {
   "cell_type": "code",
   "execution_count": null,
   "metadata": {},
   "outputs": [],
   "source": []
  }
 ],
 "metadata": {
  "kernelspec": {
   "display_name": ".venv",
   "language": "python",
   "name": "python3"
  },
  "language_info": {
   "codemirror_mode": {
    "name": "ipython",
    "version": 3
   },
   "file_extension": ".py",
   "mimetype": "text/x-python",
   "name": "python",
   "nbconvert_exporter": "python",
   "pygments_lexer": "ipython3",
   "version": "3.9.6"
  }
 },
 "nbformat": 4,
 "nbformat_minor": 2
}
